{
 "cells": [
  {
   "cell_type": "markdown",
   "metadata": {},
   "source": [
    "<img src=\"./assets/img/teclab_logo.png\" alt=\"Teclab logo\" width=\"170\">\n",
    "\n",
    "**Author**: Hector Vergara ([LinkedIn](https://www.linkedin.com/in/hector-vergara/))\n",
    "\n",
    "**Repository**: [nlp_apis](https://github.com/hhvergara/nlp_apis)\n",
    "\n",
    "**Python Notebook**: [API1.ipynb](https://github.com/hhvergara/nlp_apis/blob/main/API1.ipynb)\n",
    "\n",
    "----\n",
    "\n",
    "# API 1:\n",
    "\n",
    "### Contexto\n",
    "\n",
    "La concesionaria AutoFlex, donde trabajamos como parte de una célula Data Science, está preocupada por la aceptación de la nueva versión de su marca estrella.\n",
    "Se han recibido muchos comentarios en redes sociales al respecto, y claramente se quiere optimizar el costo de procesamiento de esas opiniones.\n",
    "\n",
    "Para ello, desea interpretar esos comentarios utilizando el preprocesamiento de texto e implementar un modelo para resumir las opiniones de manera automática. El equipo de trabajo propone realizar un análisis de sentimientos que clasifique cada texto escrito, ya que la gerencia comercial tiene un conjunto de comentarios clasificados como “bueno”, “malo” o “info” (necesita más información).\n",
    "\n",
    "Debemos realizar, primero, una descarga de la base, y terminar de sustentar metodológicamente el proyecto.\n",
    "\n",
    "### Consignas\n",
    "1.\tEn primer lugar, debemos sustentar metodológicamente:\n",
    "\n",
    "    a.\t¿Qué tipo de aplicación es un análisis de sentimientos? Por favor, en un párrafo de no más 6 líneas, explique en qué consiste, de manera que la gerencia de analítica lo comprenda fácilmente.\n",
    "    b.\t¿Qué tipo de procesamiento es necesario realizar primero? Exponga en un dibujo los pasos que va a realizar sobre los comentarios con el fin de convertirlos en data estructurada.\n",
    "\n",
    "2.\tLa gerencia de marketing le ha entregado una tabla con diferentes comentarios de los clientes, la cual se llama “comentarios.csv”. Primeramente, realice una lectura de los datos. Para ello, use el método read_csv en vez de read_table; utilice como separador la coma (,). Indique cuántos registros tiene la tabla y cuántas columnas; visualice los 20 primeros registros.\n",
    "\n",
    "3.\tRealice un análisis exploratorio de esta data encontrando el porcentaje de tipo de comentarios que han sido clasificados como malos, buenos o información, aplique el código Python que considere necesario y exprese el resultado en una tabla.\n",
    "\n",
    "4.\tDiseñe un patrón de expresión regular para utilizarlo como tokenizador más adelante, que además de las palabras en idioma español, lea los emojis como 🥰❤. También considere la expresión como “:)” como un solo token, pero que excluya la puntuación punto “.”, coma “,” y punto y coma “;”.\n",
    "\n",
    "5.\tDefina el conjunto X como los comentarios del data frame, y el target, y como la columna tipo."
   ]
  },
  {
   "cell_type": "markdown",
   "metadata": {},
   "source": [
    "### 💬 Respuestas al punto numero 1:\n",
    "\n",
    "*a)\t¿Qué tipo de aplicación es un análisis de sentimientos? Por favor, en un párrafo de no más 6 líneas, explique en qué consiste, de manera que la gerencia de analítica lo comprenda fácilmente.*\n",
    "\n",
    "**Respuesta:**\n",
    "\n",
    "*El análisis de sentimientos es una de las aplicaciones dentro del campo del procesamiento de lenguaje natural (NLP) y su objetivo es la interpretación del tono emocional de textos escritos por personas.\n",
    "Para este caso puntual, el requerimiento apunta a clasificar los comentarios de los clientes para tener una mirada general sobre la aceptación de la nueva versión de su marca estrella, de manera tal que permita mejorar la toma de decisiones por parte de la gerencia.*\n",
    "\n",
    "*b)\t¿Qué tipo de procesamiento es necesario realizar primero? Exponga en un dibujo los pasos que va a realizar sobre los comentarios con el fin de convertirlos en data estructurada.*\n",
    "\n",
    "**Respuesta:**\n",
    "\n",
    "<img src=\"./assets/img/1_b drowing.png\" alt=\"Teclab logo\" style=\"padding-left:15%\">\n"
   ]
  },
  {
   "cell_type": "code",
   "execution_count": 16,
   "metadata": {},
   "outputs": [],
   "source": [
    "import os\n",
    "import re\n",
    "import numpy as np\n",
    "import pandas as pd\n",
    "from pathlib import Path\n",
    "import plotly.express as px\n",
    "from scipy.stats import zscore\n",
    "import matplotlib.pyplot as plt\n",
    "from sklearn.decomposition import PCA\n",
    "from sklearn.pipeline import make_pipeline\n",
    "from sklearn.linear_model import LinearRegression\n",
    "from sklearn.model_selection import train_test_split\n",
    "from sklearn.preprocessing import LabelEncoder, StandardScaler\n",
    "from sklearn.metrics import mean_absolute_error, mean_squared_error, r2_score\n",
    "\n",
    "__version__ = '0.0.1'\n",
    "__email__ = 'hhvservice@gmail.com'\n",
    "__author__ = 'Hector Vergara'\n",
    "__annotations__ = 'https://www.linkedin.com/in/hector-vergara/'\n",
    "__base_dir__ = Path().absolute()\n",
    "__data_dir__ = os.path.join(__base_dir__, 'data')\n",
    "filename_data = os.path.join(__data_dir__, 'comentarios.csv')\n"
   ]
  },
  {
   "cell_type": "markdown",
   "metadata": {},
   "source": [
    "## ✅ Exploring and cleaning the data\n",
    "\n",
    "*2.\tLa gerencia de marketing le ha entregado una tabla con diferentes comentarios de los clientes, la cual se llama “comentarios.csv”. Primeramente, realice una lectura de los datos. Para ello, use el método read_csv en vez de read_table; utilice como separador la coma (,). Indique cuántos registros tiene la tabla y cuántas columnas; visualice los 20 primeros registros.*"
   ]
  },
  {
   "cell_type": "code",
   "execution_count": 17,
   "metadata": {},
   "outputs": [
    {
     "data": {
      "text/html": [
       "<div>\n",
       "<style scoped>\n",
       "    .dataframe tbody tr th:only-of-type {\n",
       "        vertical-align: middle;\n",
       "    }\n",
       "\n",
       "    .dataframe tbody tr th {\n",
       "        vertical-align: top;\n",
       "    }\n",
       "\n",
       "    .dataframe thead th {\n",
       "        text-align: right;\n",
       "    }\n",
       "</style>\n",
       "<table border=\"1\" class=\"dataframe\">\n",
       "  <thead>\n",
       "    <tr style=\"text-align: right;\">\n",
       "      <th></th>\n",
       "      <th>orden</th>\n",
       "      <th>comentario</th>\n",
       "      <th>tipo</th>\n",
       "    </tr>\n",
       "  </thead>\n",
       "  <tbody>\n",
       "    <tr>\n",
       "      <th>0</th>\n",
       "      <td>1</td>\n",
       "      <td>No les creo nada ,</td>\n",
       "      <td>malo</td>\n",
       "    </tr>\n",
       "    <tr>\n",
       "      <th>1</th>\n",
       "      <td>2</td>\n",
       "      <td>Está bonita la camioneta</td>\n",
       "      <td>bueno</td>\n",
       "    </tr>\n",
       "    <tr>\n",
       "      <th>2</th>\n",
       "      <td>3</td>\n",
       "      <td>Quiero más información</td>\n",
       "      <td>info</td>\n",
       "    </tr>\n",
       "    <tr>\n",
       "      <th>3</th>\n",
       "      <td>4</td>\n",
       "      <td>:( igual el crédito ha de ser muuuucho</td>\n",
       "      <td>malo</td>\n",
       "    </tr>\n",
       "    <tr>\n",
       "      <th>4</th>\n",
       "      <td>5</td>\n",
       "      <td>Quisiera, más información, pero nadie me respo...</td>\n",
       "      <td>info</td>\n",
       "    </tr>\n",
       "    <tr>\n",
       "      <th>5</th>\n",
       "      <td>6</td>\n",
       "      <td>cuota chica, pero digan la última cuota, de se...</td>\n",
       "      <td>malo</td>\n",
       "    </tr>\n",
       "    <tr>\n",
       "      <th>6</th>\n",
       "      <td>7</td>\n",
       "      <td>Yo tengo uno claro la versión anterior ,,me ha...</td>\n",
       "      <td>bueno</td>\n",
       "    </tr>\n",
       "    <tr>\n",
       "      <th>7</th>\n",
       "      <td>8</td>\n",
       "      <td>No lo compres, son fabricados en méxico</td>\n",
       "      <td>malo</td>\n",
       "    </tr>\n",
       "    <tr>\n",
       "      <th>8</th>\n",
       "      <td>9</td>\n",
       "      <td>🥰❤❣💯, amo esta marca</td>\n",
       "      <td>bueno</td>\n",
       "    </tr>\n",
       "    <tr>\n",
       "      <th>9</th>\n",
       "      <td>10</td>\n",
       "      <td>más IVA? Ni que la weá la uses como camioneta</td>\n",
       "      <td>malo</td>\n",
       "    </tr>\n",
       "    <tr>\n",
       "      <th>10</th>\n",
       "      <td>11</td>\n",
       "      <td>Cuotas de $174.900 + pie del 49,2% (7 millones...</td>\n",
       "      <td>malo</td>\n",
       "    </tr>\n",
       "    <tr>\n",
       "      <th>11</th>\n",
       "      <td>12</td>\n",
       "      <td>publicidad engañosa</td>\n",
       "      <td>malo</td>\n",
       "    </tr>\n",
       "    <tr>\n",
       "      <th>12</th>\n",
       "      <td>13</td>\n",
       "      <td>es mi tesoro, yo tengo uno, y es lo mejor</td>\n",
       "      <td>bueno</td>\n",
       "    </tr>\n",
       "    <tr>\n",
       "      <th>13</th>\n",
       "      <td>14</td>\n",
       "      <td>Dan poca información, necesito mayor info</td>\n",
       "      <td>info</td>\n",
       "    </tr>\n",
       "    <tr>\n",
       "      <th>14</th>\n",
       "      <td>15</td>\n",
       "      <td>info por fa</td>\n",
       "      <td>info</td>\n",
       "    </tr>\n",
       "    <tr>\n",
       "      <th>15</th>\n",
       "      <td>16</td>\n",
       "      <td>Los respuestos son demasiados caros</td>\n",
       "      <td>malo</td>\n",
       "    </tr>\n",
       "    <tr>\n",
       "      <th>16</th>\n",
       "      <td>17</td>\n",
       "      <td>excelente!</td>\n",
       "      <td>bueno</td>\n",
       "    </tr>\n",
       "    <tr>\n",
       "      <th>17</th>\n",
       "      <td>18</td>\n",
       "      <td>Es el mejor auto que he tenido</td>\n",
       "      <td>bueno</td>\n",
       "    </tr>\n",
       "    <tr>\n",
       "      <th>18</th>\n",
       "      <td>19</td>\n",
       "      <td>se daña a la primera, y los respuestos por las...</td>\n",
       "      <td>malo</td>\n",
       "    </tr>\n",
       "    <tr>\n",
       "      <th>19</th>\n",
       "      <td>20</td>\n",
       "      <td>más detalle del valor</td>\n",
       "      <td>info</td>\n",
       "    </tr>\n",
       "  </tbody>\n",
       "</table>\n",
       "</div>"
      ],
      "text/plain": [
       "    orden                                         comentario   tipo\n",
       "0       1                                No les creo nada ,    malo\n",
       "1       2                          Está bonita la camioneta   bueno\n",
       "2       3                             Quiero más información   info\n",
       "3       4            :( igual el crédito ha de ser muuuucho    malo\n",
       "4       5  Quisiera, más información, pero nadie me respo...   info\n",
       "5       6  cuota chica, pero digan la última cuota, de se...   malo\n",
       "6       7  Yo tengo uno claro la versión anterior ,,me ha...  bueno\n",
       "7       8            No lo compres, son fabricados en méxico   malo\n",
       "8       9                               🥰❤❣💯, amo esta marca  bueno\n",
       "9      10      más IVA? Ni que la weá la uses como camioneta   malo\n",
       "10     11  Cuotas de $174.900 + pie del 49,2% (7 millones...   malo\n",
       "11     12                                publicidad engañosa   malo\n",
       "12     13         es mi tesoro, yo tengo uno, y es lo mejor   bueno\n",
       "13     14          Dan poca información, necesito mayor info   info\n",
       "14     15                                        info por fa   info\n",
       "15     16                Los respuestos son demasiados caros   malo\n",
       "16     17                                        excelente!   bueno\n",
       "17     18                     Es el mejor auto que he tenido  bueno\n",
       "18     19  se daña a la primera, y los respuestos por las...   malo\n",
       "19     20                              más detalle del valor   info"
      ]
     },
     "execution_count": 17,
     "metadata": {},
     "output_type": "execute_result"
    }
   ],
   "source": [
    "df = pd.read_csv(filename_data, sep=',')\n",
    "df.head(20)"
   ]
  },
  {
   "cell_type": "code",
   "execution_count": 18,
   "metadata": {},
   "outputs": [
    {
     "name": "stdout",
     "output_type": "stream",
     "text": [
      "\n",
      "Cantidad de filas: 600\n",
      "Cantidad de columnas: 3\n",
      "\n"
     ]
    }
   ],
   "source": [
    "print(f'''\n",
    "Cantidad de filas: {df.shape[0]}\n",
    "Cantidad de columnas: {df.shape[1]}\n",
    "''')"
   ]
  },
  {
   "cell_type": "markdown",
   "metadata": {},
   "source": [
    "*3.\tRealice un análisis exploratorio de esta data encontrando el porcentaje de tipo de comentarios que han sido clasificados como malos, buenos o información, aplique el código Python que considere necesario y exprese el resultado en una tabla.*"
   ]
  },
  {
   "cell_type": "code",
   "execution_count": 19,
   "metadata": {},
   "outputs": [
    {
     "data": {
      "text/plain": [
       "<Axes: title={'center': 'Distribucion de tipos de comentarios'}, xlabel='tipo'>"
      ]
     },
     "execution_count": 19,
     "metadata": {},
     "output_type": "execute_result"
    },
    {
     "data": {
      "image/png": "[encoded data removed]",
      "text/plain": [
       "<Figure size 640x480 with 1 Axes>"
      ]
     },
     "metadata": {},
     "output_type": "display_data"
    }
   ],
   "source": [
    "df['tipo'].value_counts(normalize=True).apply(lambda x: x*100).plot(kind='bar', title='Distribucion de tipos de comentarios')"
   ]
  },
  {
   "cell_type": "markdown",
   "metadata": {},
   "source": [
    "*4.\tDiseñe un patrón de expresión regular para utilizarlo como tokenizador más adelante, que además de las palabras en idioma español, lea los emojis como 🥰❤. También considere la expresión como “:)” como un solo token, pero que excluya la puntuación punto “.”, coma “,” y punto y coma “;”.*"
   ]
  },
  {
   "cell_type": "code",
   "execution_count": 20,
   "metadata": {},
   "outputs": [
    {
     "name": "stdout",
     "output_type": "stream",
     "text": [
      "['Me', 'encantó', 'el', 'auto', 'nuevo', '🥰', 'pero', 'esperaba', 'más', 'potencia', ':)', 'Qué', 'opinan', 'ustedes']\n"
     ]
    }
   ],
   "source": [
    "\n",
    "texto = \"Me encantó el auto nuevo 🥰, pero esperaba más potencia :) ¿Qué opinan ustedes?\"\n",
    "\n",
    "pattern = r\"\"\"(\n",
    "    [\\U0001F600-\\U0001F64F]           |  # emojis clásicos (caras)\n",
    "    [\\U0001F300-\\U0001F5FF]           |  # otros emojis (símbolos, naturaleza)\n",
    "    [\\U0001F680-\\U0001F6FF]           |  # transporte y símbolos adicionales\n",
    "    [\\U0001F1E0-\\U0001F1FF]           |  # banderas\n",
    "    [\\U00002700-\\U000027BF]           |  # signos misceláneos\n",
    "    [\\U0001F900-\\U0001F9FF]           |  # emojis adicionales (caras, gestos)\n",
    "    [\\U00002600-\\U000026FF]           |  # símbolos adicionales como ☀☂\n",
    "    ❤|🥰                              |  # emojis específicos mencionados\n",
    "    :\\)                               |  # emoticón :)\n",
    "    \\b\\w+\\b                           # palabras (alfanuméricas)\n",
    ")\"\"\"\n",
    "\n",
    "tokens = re.findall(pattern, texto, re.VERBOSE)\n",
    "print(tokens)\n",
    "\n"
   ]
  },
  {
   "cell_type": "markdown",
   "metadata": {},
   "source": [
    "*5.\tDefina el conjunto X como los comentarios del data frame, y el target, y como la columna tipo.*"
   ]
  },
  {
   "cell_type": "code",
   "execution_count": 21,
   "metadata": {},
   "outputs": [
    {
     "name": "stdout",
     "output_type": "stream",
     "text": [
      "0                                    No les creo nada , \n",
      "1                              Está bonita la camioneta \n",
      "2                                 Quiero más información\n",
      "3                :( igual el crédito ha de ser muuuucho \n",
      "4      Quisiera, más información, pero nadie me respo...\n",
      "                             ...                        \n",
      "595    piezas de respuestos escasas y demoran mucho e...\n",
      "596                      No sube muy bien las pendientes\n",
      "597                       es la mejor SUV que he tenido \n",
      "598                  el crédito directo resulta muy caro\n",
      "599                        la recomiendo a ojos cerrados\n",
      "Name: comentario, Length: 600, dtype: object\n",
      "0       malo\n",
      "1      bueno\n",
      "2       info\n",
      "3       malo\n",
      "4       info\n",
      "       ...  \n",
      "595     malo\n",
      "596     malo\n",
      "597    bueno\n",
      "598     malo\n",
      "599    bueno\n",
      "Name: tipo, Length: 600, dtype: object\n"
     ]
    }
   ],
   "source": [
    "x = df['comentario']\n",
    "y = df['tipo']\n",
    "print(x)\n",
    "print(y)\n"
   ]
  }
 ],
 "metadata": {
  "kernelspec": {
   "display_name": ".venv",
   "language": "python",
   "name": "python3"
  },
  "language_info": {
   "codemirror_mode": {
    "name": "ipython",
    "version": 3
   },
   "file_extension": ".py",
   "mimetype": "text/x-python",
   "name": "python",
   "nbconvert_exporter": "python",
   "pygments_lexer": "ipython3",
   "version": "3.11.5"
  }
 },
 "nbformat": 4,
 "nbformat_minor": 2
}
